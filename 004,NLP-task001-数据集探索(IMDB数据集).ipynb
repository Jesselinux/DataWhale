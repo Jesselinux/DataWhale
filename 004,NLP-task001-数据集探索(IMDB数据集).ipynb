{
 "cells": [
  {
   "cell_type": "code",
   "execution_count": 6,
   "metadata": {},
   "outputs": [
    {
     "name": "stdout",
     "output_type": "stream",
     "text": [
      "[5 9]\n",
      "[5 9]\n"
     ]
    }
   ],
   "source": [
    "# 1，tensorflow介绍：\n",
    "import tensorflow as tf\n",
    "\n",
    "m1 = tf.constant([3, 5])\n",
    "m2 = tf.constant([2, 4])\n",
    "\n",
    "result = tf.add(m1, m2)   # 1，图的定义：只是在图中定义所需要的运算，并没有去执行\n",
    "\n",
    "sess = tf.Session()\n",
    "result_run = sess.run(result)  # 2，图的执行阶段：在会话(session)中执行图模型定义好的运算\n",
    "print(result_run)\n",
    "sess.close()\n",
    "\n",
    "with tf.Session() as sess:    # 使用with代码块的形式，无需调用close释放资源，而是会自动关闭绘画\n",
    "    res = sess.run(result)\n",
    "print(res)"
   ]
  },
  {
   "cell_type": "code",
   "execution_count": 7,
   "metadata": {},
   "outputs": [
    {
     "name": "stdout",
     "output_type": "stream",
     "text": [
      "1.12.0\n"
     ]
    }
   ],
   "source": [
    "# 2,IMDB电影评价的情感分析：\n",
    "import tensorflow as tf\n",
    "from tensorflow import keras\n",
    "import numpy as np\n",
    "\n",
    "print(tf.__version__)"
   ]
  },
  {
   "cell_type": "code",
   "execution_count": 8,
   "metadata": {},
   "outputs": [
    {
     "name": "stdout",
     "output_type": "stream",
     "text": [
      "Downloading data from https://storage.googleapis.com/tensorflow/tf-keras-datasets/imdb.npz\n",
      "17465344/17464789 [==============================] - 7s 0us/step\n"
     ]
    }
   ],
   "source": [
    "imdb = keras.datasets.imdb\n",
    "(train_data, train_labels), (test_data, test_labels) = imdb.load_data(num_words=10000)"
   ]
  },
  {
   "cell_type": "code",
   "execution_count": 10,
   "metadata": {},
   "outputs": [
    {
     "name": "stdout",
     "output_type": "stream",
     "text": [
      "trining entries: 25000, labels: 25000\n"
     ]
    }
   ],
   "source": [
    "print(\"trining entries: {}, labels: {}\".format(len(train_data), len(train_labels)))"
   ]
  },
  {
   "cell_type": "code",
   "execution_count": 11,
   "metadata": {},
   "outputs": [
    {
     "name": "stdout",
     "output_type": "stream",
     "text": [
      "Downloading data from https://storage.googleapis.com/tensorflow/tf-keras-datasets/imdb_word_index.json\n",
      "1646592/1641221 [==============================] - 1s 1us/step\n"
     ]
    },
    {
     "data": {
      "text/plain": [
       "\"<START> this film was just brilliant casting location scenery story direction everyone's really suited the part they played and you could just imagine being there robert <UNK> is an amazing actor and now the same being director <UNK> father came from the same scottish island as myself so i loved the fact there was a real connection with this film the witty remarks throughout the film were great it was just brilliant so much that i bought the film as soon as it was released for <UNK> and would recommend it to everyone to watch and the fly fishing was amazing really cried at the end it was so sad and you know what they say if you cry at a film it must have been good and this definitely was also <UNK> to the two little boy's that played the <UNK> of norman and paul they were just brilliant children are often left out of the <UNK> list i think because the stars that play them all grown up are such a big profile for the whole film but these children are amazing and should be praised for what they have done don't you think the whole story was so lovely because it was true and was someone's life after all that was shared with us all\""
      ]
     },
     "execution_count": 11,
     "metadata": {},
     "output_type": "execute_result"
    }
   ],
   "source": [
    "# Convert the integers back to words:\n",
    "# A dictionary mapping words to an integer index\n",
    "word_index = imdb.get_word_index()\n",
    "\n",
    "# The first indices are reserved\n",
    "word_index = {k:(v+3) for k,v in word_index.items()} \n",
    "word_index[\"<PAD>\"] = 0\n",
    "word_index[\"<START>\"] = 1\n",
    "word_index[\"<UNK>\"] = 2  # unknown\n",
    "word_index[\"<UNUSED>\"] = 3\n",
    "\n",
    "reverse_word_index = dict([(value, key) for (key, value) in word_index.items()])\n",
    "\n",
    "def decode_review(text):\n",
    "    return ' '.join([reverse_word_index.get(i, '?') for i in text])\n",
    "\n",
    "decode_review(train_data[0])"
   ]
  },
  {
   "cell_type": "code",
   "execution_count": 12,
   "metadata": {},
   "outputs": [],
   "source": [
    "train_data = keras.preprocessing.sequence.pad_sequences(train_data,\n",
    "                                                        value=word_index[\"<PAD>\"],\n",
    "                                                        padding='post',\n",
    "                                                        maxlen=256)\n",
    "\n",
    "test_data = keras.preprocessing.sequence.pad_sequences(test_data,\n",
    "                                                       value=word_index[\"<PAD>\"],\n",
    "                                                       padding='post',\n",
    "                                                       maxlen=256)\n",
    "print(train_data[0])"
   ]
  },
  {
   "cell_type": "code",
   "execution_count": 13,
   "metadata": {},
   "outputs": [
    {
     "name": "stdout",
     "output_type": "stream",
     "text": [
      "_________________________________________________________________\n",
      "Layer (type)                 Output Shape              Param #   \n",
      "=================================================================\n",
      "embedding (Embedding)        (None, None, 16)          160000    \n",
      "_________________________________________________________________\n",
      "global_average_pooling1d (Gl (None, 16)                0         \n",
      "_________________________________________________________________\n",
      "dense (Dense)                (None, 16)                272       \n",
      "_________________________________________________________________\n",
      "dense_1 (Dense)              (None, 1)                 17        \n",
      "=================================================================\n",
      "Total params: 160,289\n",
      "Trainable params: 160,289\n",
      "Non-trainable params: 0\n",
      "_________________________________________________________________\n"
     ]
    }
   ],
   "source": [
    "# model:\n",
    "# input shape is the vocabulary count used for the movie reviews (10,000 words)\n",
    "vocab_size = 10000\n",
    "\n",
    "model = keras.Sequential()\n",
    "model.add(keras.layers.Embedding(vocab_size, 16))\n",
    "model.add(keras.layers.GlobalAveragePooling1D())\n",
    "model.add(keras.layers.Dense(16, activation=tf.nn.relu))\n",
    "model.add(keras.layers.Dense(1, activation=tf.nn.sigmoid))\n",
    "\n",
    "model.summary()"
   ]
  },
  {
   "cell_type": "code",
   "execution_count": 16,
   "metadata": {},
   "outputs": [],
   "source": [
    "model.compile(optimizer='adam',\n",
    "              loss='binary_crossentropy',\n",
    "              metrics=['acc'])\n",
    "\n",
    "x_val = train_data[:10000]\n",
    "partial_x_train = train_data[10000:]\n",
    "\n",
    "y_val = train_labels[:10000]\n",
    "partial_y_train = train_labels[10000:]"
   ]
  },
  {
   "cell_type": "code",
   "execution_count": 17,
   "metadata": {
    "scrolled": true
   },
   "outputs": [
    {
     "name": "stderr",
     "output_type": "stream",
     "text": [
      "/home/jesse/anaconda3/envs/py36/lib/python3.6/site-packages/tensorflow/python/ops/gradients_impl.py:112: UserWarning: Converting sparse IndexedSlices to a dense Tensor of unknown shape. This may consume a large amount of memory.\n",
      "  \"Converting sparse IndexedSlices to a dense Tensor of unknown shape. \"\n"
     ]
    },
    {
     "name": "stdout",
     "output_type": "stream",
     "text": [
      "Train on 15000 samples, validate on 10000 samples\n",
      "Epoch 1/40\n",
      "15000/15000 [==============================] - 1s 58us/step - loss: 0.6923 - acc: 0.5185 - val_loss: 0.6910 - val_acc: 0.5422\n",
      "Epoch 2/40\n",
      "15000/15000 [==============================] - 1s 40us/step - loss: 0.6879 - acc: 0.6456 - val_loss: 0.6847 - val_acc: 0.7344\n",
      "Epoch 3/40\n",
      "15000/15000 [==============================] - 1s 39us/step - loss: 0.6782 - acc: 0.7461 - val_loss: 0.6720 - val_acc: 0.7426\n",
      "Epoch 4/40\n",
      "15000/15000 [==============================] - 1s 34us/step - loss: 0.6593 - acc: 0.7596 - val_loss: 0.6504 - val_acc: 0.7540\n",
      "Epoch 5/40\n",
      "15000/15000 [==============================] - 1s 34us/step - loss: 0.6303 - acc: 0.7865 - val_loss: 0.6183 - val_acc: 0.7799\n",
      "Epoch 6/40\n",
      "15000/15000 [==============================] - 0s 33us/step - loss: 0.5914 - acc: 0.8063 - val_loss: 0.5790 - val_acc: 0.7960\n",
      "Epoch 7/40\n",
      "15000/15000 [==============================] - 1s 33us/step - loss: 0.5448 - acc: 0.8248 - val_loss: 0.5352 - val_acc: 0.8146\n",
      "Epoch 8/40\n",
      "15000/15000 [==============================] - 0s 33us/step - loss: 0.4966 - acc: 0.8407 - val_loss: 0.4924 - val_acc: 0.8291\n",
      "Epoch 9/40\n",
      "15000/15000 [==============================] - 1s 40us/step - loss: 0.4516 - acc: 0.8533 - val_loss: 0.4541 - val_acc: 0.8390\n",
      "Epoch 10/40\n",
      "15000/15000 [==============================] - 1s 35us/step - loss: 0.4112 - acc: 0.8678 - val_loss: 0.4218 - val_acc: 0.8481\n",
      "Epoch 11/40\n",
      "15000/15000 [==============================] - 1s 38us/step - loss: 0.3772 - acc: 0.8774 - val_loss: 0.3975 - val_acc: 0.8532\n",
      "Epoch 12/40\n",
      "15000/15000 [==============================] - 1s 40us/step - loss: 0.3489 - acc: 0.8853 - val_loss: 0.3739 - val_acc: 0.8609\n",
      "Epoch 13/40\n",
      "15000/15000 [==============================] - 1s 34us/step - loss: 0.3236 - acc: 0.8922 - val_loss: 0.3573 - val_acc: 0.8651\n",
      "Epoch 14/40\n",
      "15000/15000 [==============================] - 1s 34us/step - loss: 0.3028 - acc: 0.8985 - val_loss: 0.3427 - val_acc: 0.8715\n",
      "Epoch 15/40\n",
      "15000/15000 [==============================] - 1s 34us/step - loss: 0.2849 - acc: 0.9026 - val_loss: 0.3314 - val_acc: 0.8724\n",
      "Epoch 16/40\n",
      "15000/15000 [==============================] - 1s 35us/step - loss: 0.2695 - acc: 0.9049 - val_loss: 0.3221 - val_acc: 0.8752\n",
      "Epoch 17/40\n",
      "15000/15000 [==============================] - 1s 35us/step - loss: 0.2549 - acc: 0.9123 - val_loss: 0.3144 - val_acc: 0.8761\n",
      "Epoch 18/40\n",
      "15000/15000 [==============================] - 1s 34us/step - loss: 0.2422 - acc: 0.9171 - val_loss: 0.3079 - val_acc: 0.8800\n",
      "Epoch 19/40\n",
      "15000/15000 [==============================] - 1s 36us/step - loss: 0.2304 - acc: 0.9215 - val_loss: 0.3027 - val_acc: 0.8805\n",
      "Epoch 20/40\n",
      "15000/15000 [==============================] - 1s 34us/step - loss: 0.2201 - acc: 0.9233 - val_loss: 0.2984 - val_acc: 0.8808\n",
      "Epoch 21/40\n",
      "15000/15000 [==============================] - 1s 35us/step - loss: 0.2100 - acc: 0.9287 - val_loss: 0.2946 - val_acc: 0.8818\n",
      "Epoch 22/40\n",
      "15000/15000 [==============================] - 1s 35us/step - loss: 0.2008 - acc: 0.9316 - val_loss: 0.2922 - val_acc: 0.8837\n",
      "Epoch 23/40\n",
      "15000/15000 [==============================] - 1s 36us/step - loss: 0.1924 - acc: 0.9349 - val_loss: 0.2901 - val_acc: 0.8832\n",
      "Epoch 24/40\n",
      "15000/15000 [==============================] - 1s 40us/step - loss: 0.1840 - acc: 0.9391 - val_loss: 0.2877 - val_acc: 0.8847\n",
      "Epoch 25/40\n",
      "15000/15000 [==============================] - 0s 33us/step - loss: 0.1767 - acc: 0.9430 - val_loss: 0.2864 - val_acc: 0.8849\n",
      "Epoch 26/40\n",
      "15000/15000 [==============================] - 1s 44us/step - loss: 0.1693 - acc: 0.9453 - val_loss: 0.2858 - val_acc: 0.8840\n",
      "Epoch 27/40\n",
      "15000/15000 [==============================] - 0s 32us/step - loss: 0.1632 - acc: 0.9487 - val_loss: 0.2858 - val_acc: 0.8843\n",
      "Epoch 28/40\n",
      "15000/15000 [==============================] - 0s 30us/step - loss: 0.1567 - acc: 0.9511 - val_loss: 0.2850 - val_acc: 0.8857\n",
      "Epoch 29/40\n",
      "15000/15000 [==============================] - 0s 29us/step - loss: 0.1507 - acc: 0.9524 - val_loss: 0.2851 - val_acc: 0.8861\n",
      "Epoch 30/40\n",
      "15000/15000 [==============================] - 0s 29us/step - loss: 0.1455 - acc: 0.9553 - val_loss: 0.2859 - val_acc: 0.8860\n",
      "Epoch 31/40\n",
      "15000/15000 [==============================] - 0s 28us/step - loss: 0.1394 - acc: 0.9584 - val_loss: 0.2868 - val_acc: 0.8864\n",
      "Epoch 32/40\n",
      "15000/15000 [==============================] - 0s 29us/step - loss: 0.1345 - acc: 0.9603 - val_loss: 0.2880 - val_acc: 0.8859\n",
      "Epoch 33/40\n",
      "15000/15000 [==============================] - 0s 29us/step - loss: 0.1290 - acc: 0.9627 - val_loss: 0.2894 - val_acc: 0.8858\n",
      "Epoch 34/40\n",
      "15000/15000 [==============================] - 0s 29us/step - loss: 0.1244 - acc: 0.9643 - val_loss: 0.2911 - val_acc: 0.8864\n",
      "Epoch 35/40\n",
      "15000/15000 [==============================] - 1s 36us/step - loss: 0.1203 - acc: 0.9658 - val_loss: 0.2926 - val_acc: 0.8857\n",
      "Epoch 36/40\n",
      "15000/15000 [==============================] - 1s 41us/step - loss: 0.1152 - acc: 0.9681 - val_loss: 0.2950 - val_acc: 0.8850\n",
      "Epoch 37/40\n",
      "15000/15000 [==============================] - 1s 40us/step - loss: 0.1112 - acc: 0.9690 - val_loss: 0.2975 - val_acc: 0.8858\n",
      "Epoch 38/40\n",
      "15000/15000 [==============================] - 1s 35us/step - loss: 0.1077 - acc: 0.9693 - val_loss: 0.2994 - val_acc: 0.8847\n",
      "Epoch 39/40\n",
      "15000/15000 [==============================] - 1s 37us/step - loss: 0.1032 - acc: 0.9713 - val_loss: 0.3017 - val_acc: 0.8841\n",
      "Epoch 40/40\n",
      "15000/15000 [==============================] - 0s 33us/step - loss: 0.0995 - acc: 0.9731 - val_loss: 0.3045 - val_acc: 0.8839\n"
     ]
    }
   ],
   "source": [
    "# 训练模型：\n",
    "history = model.fit(partial_x_train,\n",
    "                    partial_y_train,\n",
    "                    epochs=40,\n",
    "                    batch_size=512,\n",
    "                    validation_data=(x_val, y_val),\n",
    "                    verbose=1)"
   ]
  },
  {
   "cell_type": "code",
   "execution_count": 21,
   "metadata": {},
   "outputs": [
    {
     "name": "stdout",
     "output_type": "stream",
     "text": [
      "25000/25000 [==============================] - 0s 20us/step\n",
      "[0.3238787423706055, 0.87304]\n"
     ]
    },
    {
     "data": {
      "image/png": "[encoded data removed]",
      "text/plain": [
       "<Figure size 432x288 with 1 Axes>"
      ]
     },
     "metadata": {
      "needs_background": "light"
     },
     "output_type": "display_data"
    }
   ],
   "source": [
    "# 评估模型：\n",
    "results = model.evaluate(test_data, test_labels)\n",
    "print(results)\n",
    "\n",
    "\n",
    "history_dict = history.history\n",
    "history_dict.keys()\n",
    "\n",
    "# 画图：\n",
    "import matplotlib.pyplot as plt\n",
    "\n",
    "acc = history_dict['acc']\n",
    "val_acc = history_dict['val_acc']\n",
    "loss = history_dict['loss']\n",
    "val_loss = history_dict['val_loss']\n",
    "\n",
    "epochs = range(1, len(acc) + 1)\n",
    "\n",
    "# \"bo\" is for \"blue dot\"\n",
    "plt.plot(epochs, loss, 'bo', label='Training loss')\n",
    "# b is for \"solid blue line\"\n",
    "plt.plot(epochs, val_loss, 'b', label='Validation loss')\n",
    "plt.title('Training and validation loss')\n",
    "plt.xlabel('Epochs')\n",
    "plt.ylabel('Loss')\n",
    "plt.legend()\n",
    "plt.show()"
   ]
  },
  {
   "cell_type": "code",
   "execution_count": 22,
   "metadata": {},
   "outputs": [
    {
     "data": {
      "image/png": "[encoded data removed]",
      "text/plain": [
       "<Figure size 432x288 with 1 Axes>"
      ]
     },
     "metadata": {
      "needs_background": "light"
     },
     "output_type": "display_data"
    }
   ],
   "source": [
    "plt.clf()   # clear figure\n",
    "\n",
    "plt.plot(epochs, acc, 'bo', label='Training acc')\n",
    "plt.plot(epochs, val_acc, 'b', label='Validation acc')\n",
    "plt.title('Training and validation accuracy')\n",
    "plt.xlabel('Epochs')\n",
    "plt.ylabel('Accuracy')\n",
    "plt.legend()\n",
    "\n",
    "plt.show()"
   ]
  },
  {
   "cell_type": "code",
   "execution_count": null,
   "metadata": {},
   "outputs": [],
   "source": []
  }
 ],
 "metadata": {
  "kernelspec": {
   "display_name": "py36",
   "language": "python",
   "name": "py36"
  },
  "language_info": {
   "codemirror_mode": {
    "name": "ipython",
    "version": 3
   },
   "file_extension": ".py",
   "mimetype": "text/x-python",
   "name": "python",
   "nbconvert_exporter": "python",
   "pygments_lexer": "ipython3",
   "version": "3.6.7"
  }
 },
 "nbformat": 4,
 "nbformat_minor": 2
}
