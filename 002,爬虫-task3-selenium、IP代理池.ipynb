{
 "cells": [
  {
   "cell_type": "code",
   "execution_count": null,
   "metadata": {},
   "outputs": [],
   "source": [
    "# 1，selenium模拟登陆163邮箱：\n",
    "import time\n",
    "from selenium import webdriver\n",
    "#from selenium.webdriver.common.keys import Keys\n",
    "\n",
    "\n",
    "browser = webdriver.Chrome()\n",
    "url = 'http://mail.163.com/'\n",
    "browser.get(url)\n",
    "time.sleep(3)\n",
    "\n",
    "browser.maximize_window()#打开网页窗口\n",
    "\n",
    "time.sleep(5)\n",
    "\n",
    "browser.switch_to.frame(0)#找到邮箱账号登录框对应的iframe,由于网页中iframe的id是动态的，所以不能用id寻找\n",
    "\n",
    "email = browser.find_element_by_name('email')#找到邮箱账号输入框\n",
    "\n",
    "email.send_keys('13265923587@163.com')#将自己的邮箱地址输入到邮箱账号框中\n",
    "    \n",
    "password = browser.find_element_by_name('password')#找到密码输入框\n",
    "    \n",
    "password.send_keys('******')#输入自己的邮箱密码\n",
    "    \n",
    "login_em = browser.find_element_by_id('dologin')#找到登陆按钮\n",
    "    \n",
    "login_em.click()#点击登陆按钮\n",
    "      \n",
    "time.sleep(10)"
   ]
  },
  {
   "cell_type": "code",
   "execution_count": 1,
   "metadata": {},
   "outputs": [
    {
     "name": "stdout",
     "output_type": "stream",
     "text": [
      "{'http': '112.87.68.58：9999'}\n",
      "{'http': '112.85.131.179：9999'}\n",
      "{'http': '12.87.68.123：9999'}\n"
     ]
    }
   ],
   "source": [
    "# 2,IP代理：\n",
    "import urllib.request\n",
    "\n",
    "def proxy_user():\n",
    "\n",
    "    proxy = [{'http':'112.87.68.58：9999'}, {'http':'112.85.131.179：9999'}, {'http':'12.87.68.123：9999'}]\n",
    "\n",
    "    for p in proxy:\n",
    "        print(p)\n",
    "        # 利用遍历出来的ip创建处理器\n",
    "        proxy_handler = urllib.request.ProxyHandler(p)\n",
    "        # 创建opener\n",
    "        opener = urllib.request.build_opener(proxy_handler)\n",
    "\n",
    "        try:\n",
    "            opener.open('https://www.baidu.com',timeout=1)\n",
    "\n",
    "        except Exception as e:\n",
    "            print(e)\n",
    "\n",
    "proxy_user()"
   ]
  },
  {
   "cell_type": "code",
   "execution_count": null,
   "metadata": {},
   "outputs": [],
   "source": []
  }
 ],
 "metadata": {
  "kernelspec": {
   "display_name": "py36",
   "language": "python",
   "name": "py36"
  },
  "language_info": {
   "codemirror_mode": {
    "name": "ipython",
    "version": 3
   },
   "file_extension": ".py",
   "mimetype": "text/x-python",
   "name": "python",
   "nbconvert_exporter": "python",
   "pygments_lexer": "ipython3",
   "version": "3.6.7"
  }
 },
 "nbformat": 4,
 "nbformat_minor": 2
}
