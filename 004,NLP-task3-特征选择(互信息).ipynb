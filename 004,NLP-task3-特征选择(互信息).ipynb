{
 "cells": [
  {
   "cell_type": "code",
   "execution_count": 1,
   "metadata": {},
   "outputs": [
    {
     "name": "stdout",
     "output_type": "stream",
     "text": [
      "[0.6869615765973236, 0.40896023018721916, 0.40896023018721916, 0.15903349924552668, 0.06313947509493317, 0.005000792454427805]\n"
     ]
    }
   ],
   "source": [
    "# 法1：计算互信息：它返回每个特征与目标之间的互信息量的估计，这个估计在[0,1]之间取值，0表示独立，1表示两个变量完全相关\n",
    "from sklearn import metrics as mr\n",
    "\n",
    "# mr.mutual_info_score(label,x)  # 计算x和label的互信息，这里abel、x为list或array\n",
    "\n",
    "label=[1,1,1,1,1,0,0,0,0]\n",
    "x1=[\"x\",\"x\",\"x\",\"x\",\"x\",\"y\",\"y\",\"y\",\"y\"]\n",
    "x2=[\"x\",\"x\",\"x\",\"x\",\"y\",\"y\",\"y\",\"y\",\"x\"]\n",
    "x3=[\"x\",\"x\",\"x\",\"y\",\"y\",\"y\",\"y\",\"x\",\"x\"]\n",
    "x4=[\"x\",\"x\",\"y\",\"y\",\"y\",\"y\",\"x\",\"x\",\"x\"]\n",
    "x5=[\"x\",\"y\",\"y\",\"y\",\"y\",\"x\",\"x\",\"x\",\"x\"]\n",
    "x6=[\"y\",\"y\",\"y\",\"y\",\"x\",\"x\",\"x\",\"x\",\"x\"]\n",
    "res = []\n",
    "for i in [x1,x2,x3,x4,x5,x6]:\n",
    "    res.append(mr.mutual_info_score(label,i))\n",
    " \n",
    "print(sorted(res)[::-1])  # 互信息值越大，则该属性与label的相关性越大，可以由大到小选择属性来进行特征选择"
   ]
  },
  {
   "cell_type": "code",
   "execution_count": 2,
   "metadata": {},
   "outputs": [
    {
     "name": "stdout",
     "output_type": "stream",
     "text": [
      "[1.1993386243386246, 0.4205026455026457, 0.2167989417989422, 0.0, 0.0, 0.0] \n",
      " 3\n"
     ]
    }
   ],
   "source": [
    "# 法2：计算互信息\n",
    "from sklearn.feature_selection import mutual_info_classif as MIC\n",
    "import pandas as pd\n",
    "\n",
    "label=[1,1,1,1,1,0,0,0,0]\n",
    "X = [[\"6\",\"6\",\"6\",\"6\",\"6\",\"9\",\"9\",\"9\",\"9\"],\n",
    "     [\"6\",\"6\",\"6\",\"6\",\"9\",\"9\",\"9\",\"9\",\"6\"],\n",
    "     [\"6\",\"6\",\"6\",\"9\",\"9\",\"9\",\"9\",\"6\",\"6\"],\n",
    "     [\"6\",\"6\",\"9\",\"9\",\"9\",\"9\",\"6\",\"6\",\"6\"],\n",
    "     [\"6\",\"9\",\"9\",\"9\",\"9\",\"6\",\"6\",\"6\",\"6\"],\n",
    "     [\"9\",\"9\",\"9\",\"9\",\"6\",\"6\",\"6\",\"6\",\"6\"]]\n",
    "X = pd.DataFrame(X).T\n",
    "\n",
    "res = MIC(X,label)\n",
    " \n",
    "print(sorted(res)[::-1],'\\n',(res == 0).sum())"
   ]
  },
  {
   "cell_type": "code",
   "execution_count": null,
   "metadata": {},
   "outputs": [],
   "source": []
  }
 ],
 "metadata": {
  "kernelspec": {
   "display_name": "py36",
   "language": "python",
   "name": "py36"
  },
  "language_info": {
   "codemirror_mode": {
    "name": "ipython",
    "version": 3
   },
   "file_extension": ".py",
   "mimetype": "text/x-python",
   "name": "python",
   "nbconvert_exporter": "python",
   "pygments_lexer": "ipython3",
   "version": "3.6.7"
  }
 },
 "nbformat": 4,
 "nbformat_minor": 2
}
