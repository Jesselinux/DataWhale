{
 "cells": [
  {
   "cell_type": "code",
   "execution_count": 1,
   "metadata": {},
   "outputs": [
    {
     "name": "stdout",
     "output_type": "stream",
     "text": [
      "tensor([[ 0.7749,  0.4905,  0.6137],\n",
      "        [-0.1169,  0.1252, -0.0083]], dtype=torch.float64) \n",
      " \n",
      " [[ 1.363478   -1.3787154  -0.57904965 -1.9406884   0.05370565]\n",
      " [ 1.9636201  -1.5404222   1.2954143  -0.36350814  0.85704774]\n",
      " [ 0.12455699  0.06134478  0.11797304 -0.43239707  0.50004965]]\n",
      "tensor([8.])\n",
      "tensor([[-0.0731, -0.0887, -0.4003,  0.1503,  0.3661, -0.1121],\n",
      "        [-0.0731, -0.0887, -0.4003,  0.1503,  0.3661, -0.1121],\n",
      "        [-0.0731, -0.0887, -0.4003,  0.1503,  0.3661, -0.1121]]) \n",
      " *** \n",
      " tensor([[0.1667, 0.1667],\n",
      "        [0.1667, 0.1667],\n",
      "        [0.1667, 0.1667]]) \n",
      " *** \n",
      " tensor([[ 0.1102,  0.1102],\n",
      "        [-0.1400, -0.1400],\n",
      "        [ 0.0065,  0.0065],\n",
      "        [ 0.1613,  0.1613],\n",
      "        [ 0.0785,  0.0785],\n",
      "        [-0.1553, -0.1553]])\n"
     ]
    }
   ],
   "source": [
    "# 1，torch 与 numpy相互转化: pytorch可以看作支持GPU和适应深度学习模型梯度计算的numpy，升级版的numpy\n",
    "import torch\n",
    "import numpy as np\n",
    "from torch.autograd import Variable\n",
    "\n",
    "\n",
    "torch_tensor = torch.randn(3,5)\n",
    "np_tensor = np.random.randn(2,3)\n",
    "\n",
    "np_to_torch_tensor = torch.from_numpy(np_tensor)             # numpy to pytorch.\n",
    "torch_to_np_tensor = torch_tensor.numpy()                    # pytorch to numpy.\n",
    "print(np_to_torch_tensor, '\\n','\\n', torch_to_np_tensor)\n",
    "\n",
    "# 梯度计算：\n",
    "x = Variable(torch.FloatTensor([2]), requires_grad=True)  # 一维变量求导数(梯度)\n",
    "z = (x + 2)**2\n",
    "z.backward()\n",
    "print(x.grad)       # the grad of z on x.\n",
    "\n",
    "x = Variable(torch.randn(3,6), requires_grad=True)        # 二维变量求导数(雅可比矩阵)\n",
    "y = Variable(torch.randn(3,2), requires_grad=True)\n",
    "w = Variable(torch.randn(6,2), requires_grad=True)\n",
    "\n",
    "z = torch.mean(y - torch.matmul(x, w))\n",
    "z.backward()\n",
    "\n",
    "print(x.grad, '\\n','***','\\n', y.grad, '\\n','***','\\n', w.grad)"
   ]
  },
  {
   "cell_type": "code",
   "execution_count": 2,
   "metadata": {
    "scrolled": false
   },
   "outputs": [
    {
     "name": "stdout",
     "output_type": "stream",
     "text": [
      "epoch: 0, loss: 1.2777559757232666\n",
      "epoch: 1, loss: 0.23446236550807953\n",
      "epoch: 2, loss: 0.21228225529193878\n",
      "epoch: 3, loss: 0.21166886389255524\n",
      "epoch: 4, loss: 0.21151168644428253\n",
      "epoch: 5, loss: 0.21136493980884552\n",
      "epoch: 6, loss: 0.21121908724308014\n",
      "epoch: 7, loss: 0.21107405424118042\n",
      "epoch: 8, loss: 0.2109297215938568\n",
      "epoch: 9, loss: 0.21078616380691528\n",
      "epoch: 10, loss: 0.21064333617687225\n",
      "epoch: 11, loss: 0.21050123870372772\n",
      "epoch: 12, loss: 0.21035988628864288\n",
      "epoch: 13, loss: 0.21021929383277893\n",
      "epoch: 14, loss: 0.2100793570280075\n",
      "epoch: 15, loss: 0.20994016528129578\n",
      "epoch: 16, loss: 0.20980171859264374\n",
      "epoch: 17, loss: 0.20966394245624542\n",
      "epoch: 18, loss: 0.2095268815755844\n",
      "epoch: 19, loss: 0.2093905806541443\n",
      "epoch: 20, loss: 0.20925498008728027\n",
      "epoch: 21, loss: 0.2091200351715088\n",
      "epoch: 22, loss: 0.2089858055114746\n",
      "epoch: 23, loss: 0.20885224640369415\n",
      "epoch: 24, loss: 0.20871946215629578\n",
      "epoch: 25, loss: 0.20858722925186157\n",
      "epoch: 26, loss: 0.20845580101013184\n",
      "epoch: 27, loss: 0.20832496881484985\n",
      "epoch: 28, loss: 0.2081948220729828\n",
      "epoch: 29, loss: 0.20806542038917542\n",
      "epoch: 30, loss: 0.2079365998506546\n",
      "epoch: 31, loss: 0.2078084796667099\n",
      "epoch: 32, loss: 0.20768095552921295\n",
      "epoch: 33, loss: 0.2075541615486145\n",
      "epoch: 34, loss: 0.20742802321910858\n",
      "epoch: 35, loss: 0.2073025405406952\n",
      "epoch: 36, loss: 0.20717766880989075\n",
      "epoch: 37, loss: 0.20705349743366241\n",
      "epoch: 38, loss: 0.20692990720272064\n",
      "epoch: 39, loss: 0.2068069875240326\n",
      "epoch: 40, loss: 0.2066846340894699\n",
      "epoch: 41, loss: 0.20656299591064453\n",
      "epoch: 42, loss: 0.2064419686794281\n",
      "epoch: 43, loss: 0.20632152259349823\n",
      "epoch: 44, loss: 0.20620177686214447\n",
      "epoch: 45, loss: 0.2060825228691101\n",
      "epoch: 46, loss: 0.20596401393413544\n",
      "epoch: 47, loss: 0.20584610104560852\n",
      "epoch: 48, loss: 0.20572873950004578\n",
      "epoch: 49, loss: 0.2056119590997696\n",
      "epoch: 50, loss: 0.20549587905406952\n",
      "epoch: 51, loss: 0.2053803652524948\n",
      "epoch: 52, loss: 0.20526541769504547\n",
      "epoch: 53, loss: 0.2051510512828827\n",
      "epoch: 54, loss: 0.20503726601600647\n",
      "epoch: 55, loss: 0.20492412149906158\n",
      "epoch: 56, loss: 0.20481155812740326\n",
      "epoch: 57, loss: 0.2046995311975479\n",
      "epoch: 58, loss: 0.2045881450176239\n",
      "epoch: 59, loss: 0.2044772505760193\n",
      "epoch: 60, loss: 0.20436695218086243\n",
      "epoch: 61, loss: 0.2042572796344757\n",
      "epoch: 62, loss: 0.20414815843105316\n",
      "epoch: 63, loss: 0.2040395587682724\n",
      "epoch: 64, loss: 0.20393157005310059\n",
      "epoch: 65, loss: 0.20382405817508698\n",
      "epoch: 66, loss: 0.2037171721458435\n",
      "epoch: 67, loss: 0.20361079275608063\n",
      "epoch: 68, loss: 0.2035049945116043\n",
      "epoch: 69, loss: 0.20339970290660858\n",
      "epoch: 70, loss: 0.20329497754573822\n",
      "epoch: 71, loss: 0.20319083333015442\n",
      "epoch: 72, loss: 0.20308715105056763\n",
      "epoch: 73, loss: 0.20298407971858978\n",
      "epoch: 74, loss: 0.20288150012493134\n",
      "epoch: 75, loss: 0.20277945697307587\n",
      "epoch: 76, loss: 0.20267793536186218\n",
      "epoch: 77, loss: 0.20257696509361267\n",
      "epoch: 78, loss: 0.20247647166252136\n",
      "epoch: 79, loss: 0.20237646996974945\n",
      "epoch: 80, loss: 0.2022770792245865\n",
      "epoch: 81, loss: 0.20217815041542053\n",
      "epoch: 82, loss: 0.20207974314689636\n",
      "epoch: 83, loss: 0.201981782913208\n",
      "epoch: 84, loss: 0.20188437402248383\n",
      "epoch: 85, loss: 0.20178750157356262\n",
      "epoch: 86, loss: 0.20169109106063843\n",
      "epoch: 87, loss: 0.20159517228603363\n",
      "epoch: 88, loss: 0.201499804854393\n",
      "epoch: 89, loss: 0.2014048993587494\n",
      "epoch: 90, loss: 0.2013104259967804\n",
      "epoch: 91, loss: 0.20121650397777557\n",
      "epoch: 92, loss: 0.20112305879592896\n",
      "epoch: 93, loss: 0.20103012025356293\n",
      "epoch: 94, loss: 0.20093759894371033\n",
      "epoch: 95, loss: 0.20084555447101593\n",
      "epoch: 96, loss: 0.2007540613412857\n",
      "epoch: 97, loss: 0.20066294074058533\n",
      "epoch: 98, loss: 0.20057234168052673\n",
      "epoch: 99, loss: 0.20048226416110992\n"
     ]
    },
    {
     "data": {
      "text/plain": [
       "<matplotlib.legend.Legend at 0x7fbfb2c56fd0>"
      ]
     },
     "execution_count": 2,
     "metadata": {},
     "output_type": "execute_result"
    },
    {
     "data": {
      "image/png": "[encoded data removed]",
      "text/plain": [
       "<Figure size 432x288 with 1 Axes>"
      ]
     },
     "metadata": {
      "needs_background": "light"
     },
     "output_type": "display_data"
    }
   ],
   "source": [
    "# 2，torch进行梯度优化一个线性模型：\n",
    "import torch\n",
    "import numpy as np\n",
    "from torch.autograd import Variable\n",
    "import matplotlib.pyplot as plt\n",
    "%matplotlib inline\n",
    "torch.manual_seed(2018)\n",
    "\n",
    "x_train = np.array([[3.3],[4.4],[5.5],[6.17],[6.93],[4.168],[9.779],[6.182],[7.59],[2.167],[7.042],[10.791],\n",
    "                    [5.313],[7.997],[3.1]],dtype=np.float32)\n",
    "y_train = np.array([[1.7],[2.76],[2.09],[3.19],[1.694],[1.573],[3.366],[2.596],[2.53],[1.221],[2.827],\n",
    "                   [3.465],[1.65],[2.904],[1.3]],dtype=np.float32)\n",
    "\n",
    "plt.plot(x_train, y_train, 'bo')\n",
    "\n",
    "# numpy转化为torch，以便梯度优化线性模型：\n",
    "pt_x_train = torch.from_numpy(x_train)\n",
    "pt_y_train = torch.from_numpy(y_train)\n",
    "\n",
    "w = Variable(torch.randn(1), requires_grad=True)\n",
    "b = Variable(torch.randn(1), requires_grad=True)\n",
    "\n",
    "x = Variable(pt_x_train)\n",
    "y = Variable(pt_y_train)\n",
    "\n",
    "def linear_model(x):  # 定义线性模型\n",
    "    return x * w + b\n",
    "\n",
    "y_hat = linear_model(x)\n",
    "\n",
    "# plt.plot(x.data.numpy(), y.data.numpy(), 'bo', label='real')\n",
    "# plt.plot(x.data.numpy(), y_hat.data.numpy(), 'ro', label='estimated')\n",
    "# plt.legend()\n",
    "\n",
    "def get_loss(y_hat, y):  # 定义损失函数，梯度优化的目标是最小化损失函数\n",
    "    return torch.mean((y_hat - y) ** 2)\n",
    "\n",
    "loss = get_loss(y_hat, y)\n",
    "\n",
    "loss.backward()\n",
    "w.data = w.data - 1e-2 * w.grad.data  # 梯度优化，进行参数更新\n",
    "b.data = b.data - 1e-2 * b.grad.data\n",
    "\n",
    "# y_hat = linear_model(x)\n",
    "# plt.plot(x.data.numpy(), y.data.numpy(), 'bo', label='real')\n",
    "# plt.plot(x.data.numpy(), y_hat.data.numpy(), 'ro', label='estimated')\n",
    "# plt.legend()\n",
    "\n",
    "for e in range(100):  # 参数更新100次\n",
    "    y_hat = linear_model(x)\n",
    "    loss = get_loss(y_hat, y)\n",
    "    \n",
    "    w.grad.zero_()\n",
    "    b.grad.zero_()\n",
    "    loss.backward()\n",
    "    \n",
    "    w.data = w.data - 1e-2 * w.grad.data\n",
    "    b.data = b.data - 1e-2 * b.grad.data \n",
    "    print('epoch: {}, loss: {}'.format(e, loss.item()))\n",
    "    \n",
    "y_hat = linear_model(x)  # 画图查看拟合效果\n",
    "plt.plot(x.data.numpy(), y.data.numpy(), 'bo', label='real')\n",
    "plt.plot(x.data.numpy(), y_hat.data.numpy(), 'ro', label='estimated')\n",
    "plt.legend()"
   ]
  },
  {
   "cell_type": "code",
   "execution_count": 3,
   "metadata": {},
   "outputs": [
    {
     "name": "stdout",
     "output_type": "stream",
     "text": [
      "Downloading http://yann.lecun.com/exdb/mnist/train-images-idx3-ubyte.gz to DataSets/MNIST/raw/train-images-idx3-ubyte.gz\n"
     ]
    },
    {
     "name": "stderr",
     "output_type": "stream",
     "text": [
      "100.1%"
     ]
    },
    {
     "name": "stdout",
     "output_type": "stream",
     "text": [
      "Extracting DataSets/MNIST/raw/train-images-idx3-ubyte.gz\n",
      "Downloading http://yann.lecun.com/exdb/mnist/train-labels-idx1-ubyte.gz to DataSets/MNIST/raw/train-labels-idx1-ubyte.gz\n"
     ]
    },
    {
     "name": "stderr",
     "output_type": "stream",
     "text": [
      "113.5%"
     ]
    },
    {
     "name": "stdout",
     "output_type": "stream",
     "text": [
      "Extracting DataSets/MNIST/raw/train-labels-idx1-ubyte.gz\n",
      "Downloading http://yann.lecun.com/exdb/mnist/t10k-images-idx3-ubyte.gz to DataSets/MNIST/raw/t10k-images-idx3-ubyte.gz\n"
     ]
    },
    {
     "name": "stderr",
     "output_type": "stream",
     "text": [
      "100.4%"
     ]
    },
    {
     "name": "stdout",
     "output_type": "stream",
     "text": [
      "Extracting DataSets/MNIST/raw/t10k-images-idx3-ubyte.gz\n",
      "Downloading http://yann.lecun.com/exdb/mnist/t10k-labels-idx1-ubyte.gz to DataSets/MNIST/raw/t10k-labels-idx1-ubyte.gz\n"
     ]
    },
    {
     "name": "stderr",
     "output_type": "stream",
     "text": [
      "180.4%"
     ]
    },
    {
     "name": "stdout",
     "output_type": "stream",
     "text": [
      "Extracting DataSets/MNIST/raw/t10k-labels-idx1-ubyte.gz\n",
      "Processing...\n",
      "Done!\n",
      "epoch: 0, Train Loss: 0.515413, Train Acc: 0.833206, Eval Loss: 0.201316, Eval Acc: 0.936511\n",
      "epoch: 1, Train Loss: 0.168810, Train Acc: 0.946778, Eval Loss: 0.132500, Eval Acc: 0.960542\n",
      "epoch: 2, Train Loss: 0.117487, Train Acc: 0.962970, Eval Loss: 0.142787, Eval Acc: 0.954509\n",
      "epoch: 3, Train Loss: 0.091664, Train Acc: 0.970616, Eval Loss: 0.492202, Eval Acc: 0.857496\n",
      "epoch: 4, Train Loss: 0.073679, Train Acc: 0.976513, Eval Loss: 0.074378, Eval Acc: 0.974782\n",
      "epoch: 5, Train Loss: 0.062037, Train Acc: 0.980360, Eval Loss: 0.113306, Eval Acc: 0.962915\n",
      "epoch: 6, Train Loss: 0.051442, Train Acc: 0.983376, Eval Loss: 0.074486, Eval Acc: 0.976859\n",
      "epoch: 7, Train Loss: 0.042751, Train Acc: 0.986074, Eval Loss: 0.075453, Eval Acc: 0.975574\n",
      "epoch: 8, Train Loss: 0.038706, Train Acc: 0.987290, Eval Loss: 0.072430, Eval Acc: 0.978837\n",
      "epoch: 9, Train Loss: 0.036807, Train Acc: 0.988323, Eval Loss: 0.063955, Eval Acc: 0.980518\n",
      "epoch: 10, Train Loss: 0.028726, Train Acc: 0.990222, Eval Loss: 0.072189, Eval Acc: 0.977650\n",
      "epoch: 11, Train Loss: 0.026799, Train Acc: 0.991255, Eval Loss: 0.079910, Eval Acc: 0.977848\n",
      "epoch: 12, Train Loss: 0.021688, Train Acc: 0.993204, Eval Loss: 0.074223, Eval Acc: 0.978936\n",
      "epoch: 13, Train Loss: 0.019565, Train Acc: 0.993520, Eval Loss: 0.079307, Eval Acc: 0.976958\n",
      "epoch: 14, Train Loss: 0.019576, Train Acc: 0.993187, Eval Loss: 0.135904, Eval Acc: 0.962322\n",
      "epoch: 15, Train Loss: 0.013598, Train Acc: 0.995569, Eval Loss: 0.070458, Eval Acc: 0.981112\n",
      "epoch: 16, Train Loss: 0.013471, Train Acc: 0.995852, Eval Loss: 0.079712, Eval Acc: 0.980815\n",
      "epoch: 17, Train Loss: 0.013590, Train Acc: 0.995836, Eval Loss: 0.070743, Eval Acc: 0.982991\n",
      "epoch: 18, Train Loss: 0.011413, Train Acc: 0.996519, Eval Loss: 0.077967, Eval Acc: 0.980419\n",
      "epoch: 19, Train Loss: 0.009901, Train Acc: 0.997018, Eval Loss: 0.063473, Eval Acc: 0.982496\n",
      "epoch: 20, Train Loss: 0.005565, Train Acc: 0.998251, Eval Loss: 0.070923, Eval Acc: 0.983485\n",
      "epoch: 21, Train Loss: 0.005988, Train Acc: 0.998351, Eval Loss: 0.071144, Eval Acc: 0.982397\n",
      "epoch: 22, Train Loss: 0.003562, Train Acc: 0.999034, Eval Loss: 0.067311, Eval Acc: 0.984177\n",
      "epoch: 23, Train Loss: 0.003425, Train Acc: 0.998951, Eval Loss: 0.082752, Eval Acc: 0.980914\n",
      "epoch: 24, Train Loss: 0.003121, Train Acc: 0.999184, Eval Loss: 0.075170, Eval Acc: 0.982793\n",
      "epoch: 25, Train Loss: 0.002590, Train Acc: 0.999284, Eval Loss: 0.068646, Eval Acc: 0.985166\n",
      "epoch: 26, Train Loss: 0.002352, Train Acc: 0.999350, Eval Loss: 0.082287, Eval Acc: 0.983089\n",
      "epoch: 27, Train Loss: 0.000819, Train Acc: 0.999817, Eval Loss: 0.069216, Eval Acc: 0.984968\n",
      "epoch: 28, Train Loss: 0.000496, Train Acc: 0.999900, Eval Loss: 0.069098, Eval Acc: 0.985166\n",
      "epoch: 29, Train Loss: 0.000237, Train Acc: 1.000000, Eval Loss: 0.071714, Eval Acc: 0.985067\n"
     ]
    }
   ],
   "source": [
    "# 3，手写体识别数据集运行一个深度模型：\n",
    "from torchvision.datasets import mnist\n",
    "from torch import nn\n",
    "from torch.utils.data import DataLoader\n",
    "mnist.MNIST\n",
    "\n",
    "def data_tf(x):   # 数据归一化\n",
    "    x = np.array(x, dtype='float32') / 255\n",
    "    x = (x - 0.5) / 0.5\n",
    "    x = x.reshape((-1,))\n",
    "    x = torch.from_numpy(x)\n",
    "    return x\n",
    "\n",
    "train_set = mnist.MNIST('../DataSets', train=True, transform=data_tf, download=True)   # 加载数据\n",
    "test_set = mnist.MNIST('../DataSets', train=False, transform=data_tf, download=True)\n",
    "\n",
    "train_data = DataLoader(train_set, batch_size=64, shuffle=True)\n",
    "test_data = DataLoader(test_set,batch_size=128, shuffle=False)\n",
    "\n",
    "net = nn.Sequential(       # 定义一个四层的深度学习网络\n",
    "    nn.Linear(784, 400),\n",
    "    nn.ReLU(),\n",
    "    nn.Linear(400, 200),\n",
    "    nn.ReLU(),\n",
    "    nn.Linear(200, 100),\n",
    "    nn.ReLU(),\n",
    "    nn.Linear(100, 10)\n",
    ")\n",
    "\n",
    "# 开始训练模型：\n",
    "criterion = nn.CrossEntropyLoss()\n",
    "optimizer = torch.optim.SGD(net.parameters(), 1e-1)\n",
    "\n",
    "losses = []\n",
    "acces = []\n",
    "eval_losses = []\n",
    "eval_acces = []\n",
    "\n",
    "for e in range(30):\n",
    "    train_loss = 0\n",
    "    train_acc = 0\n",
    "    net.train()\n",
    "    for im, label in train_data:\n",
    "        im = Variable(im)\n",
    "        label = Variable(label)\n",
    "        \n",
    "        out = net(im)\n",
    "        loss = criterion(out, label)\n",
    "        \n",
    "        optimizer.zero_grad()\n",
    "        loss.backward()\n",
    "        optimizer.step()\n",
    "        \n",
    "        train_loss += loss.item()\n",
    "        \n",
    "        _,pred = out.max(1)\n",
    "        num_correct = (pred == label).sum().item()\n",
    "        acc = num_correct / im.shape[0]\n",
    "        train_acc += acc\n",
    "        \n",
    "    losses.append(train_loss / len(train_data))\n",
    "    acces.append(train_acc / len(train_data))\n",
    "    \n",
    "    eval_loss = 0\n",
    "    eval_acc = 0\n",
    "    net.eval()\n",
    "    for im, label in test_data:\n",
    "        im = Variable(im)\n",
    "        label = Variable(label)\n",
    "        \n",
    "        out = net(im)\n",
    "        loss = criterion(out, label)\n",
    "        \n",
    "        eval_loss += loss.item()\n",
    "        \n",
    "        _, pred = out.max(1)\n",
    "        num_correct = (pred == label).sum().item()\n",
    "        acc = num_correct / im.shape[0]\n",
    "        eval_acc += acc\n",
    "        \n",
    "    eval_losses.append(eval_loss / len(test_data))\n",
    "    eval_acces.append(eval_acc / len(test_data))\n",
    "    print('epoch: {}, Train Loss: {:.6f}, Train Acc: {:.6f}, Eval Loss: {:.6f}, Eval Acc: {:.6F}'\n",
    "          .format(e, train_loss / len(train_data), train_acc / len(train_data),\n",
    "                     eval_loss / len(test_data), eval_acc / len(test_data)))"
   ]
  },
  {
   "cell_type": "code",
   "execution_count": 4,
   "metadata": {},
   "outputs": [
    {
     "data": {
      "text/plain": [
       "[<matplotlib.lines.Line2D at 0x7fbfb19b3e10>]"
      ]
     },
     "execution_count": 4,
     "metadata": {},
     "output_type": "execute_result"
    },
    {
     "data": {
      "image/png": "[encoded data removed]",
      "text/plain": [
       "<Figure size 720x432 with 4 Axes>"
      ]
     },
     "metadata": {},
     "output_type": "display_data"
    }
   ],
   "source": [
    "# 画图：\n",
    "fig = plt.figure(figsize=(10,6), facecolor = 'gray')\n",
    "\n",
    "ax1 = fig.add_subplot(2,2,1)\n",
    "plt.title('train loss')\n",
    "plt.plot(np.arange(len(losses)),losses)\n",
    "\n",
    "ax2 = fig.add_subplot(2,2,2)\n",
    "plt.title('train acc')\n",
    "plt.plot(np.arange(len(acces)),acces)\n",
    "\n",
    "ax3 = fig.add_subplot(2,2,3)\n",
    "plt.title('test loss')\n",
    "plt.plot(np.arange(len(eval_losses)), eval_losses)\n",
    "\n",
    "ax4 = fig.add_subplot(2,2,4)\n",
    "plt.title('test acc')\n",
    "plt.plot(np.arange(len(eval_acces)), eval_acces)"
   ]
  },
  {
   "cell_type": "code",
   "execution_count": null,
   "metadata": {},
   "outputs": [],
   "source": []
  }
 ],
 "metadata": {
  "kernelspec": {
   "display_name": "py36",
   "language": "python",
   "name": "py36"
  },
  "language_info": {
   "codemirror_mode": {
    "name": "ipython",
    "version": 3
   },
   "file_extension": ".py",
   "mimetype": "text/x-python",
   "name": "python",
   "nbconvert_exporter": "python",
   "pygments_lexer": "ipython3",
   "version": "3.6.7"
  }
 },
 "nbformat": 4,
 "nbformat_minor": 2
}
