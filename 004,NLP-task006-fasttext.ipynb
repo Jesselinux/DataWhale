{
 "cells": [
  {
   "cell_type": "code",
   "execution_count": 1,
   "metadata": {},
   "outputs": [
    {
     "name": "stdout",
     "output_type": "stream",
     "text": [
      "{'</s>', 'the'}\n",
      "{'</s>', 'the'}\n"
     ]
    }
   ],
   "source": [
    "'''Reference:\n",
    "https://pypi.org/project/fasttext/\n",
    "https://blog.csdn.net/john_bh/article/details/79268850\n",
    "\n",
    "\n",
    "https://github.com/facebookresearch/fastText;\n",
    "https://github.com/salestock/fastText.py;\n",
    "https://jepsonwong.github.io/2018/05/02/fastText/\n",
    "https://github.com/washuwashu/NLP-training\n",
    "'''\n",
    "\n",
    "\n",
    "import fasttext  # 链接1中的示例,框架说明应当参考链接2\n",
    "\n",
    "# Skipgram model\n",
    "model = fasttext.skipgram('../DataSets/data.txt', 'model')\n",
    "print(model.words) # list of words in dictionary\n",
    "\n",
    "# CBOW model\n",
    "model = fasttext.cbow('../DataSets/data.txt', 'model')\n",
    "print(model.words)# list of words in dictionary"
   ]
  },
  {
   "cell_type": "code",
   "execution_count": null,
   "metadata": {},
   "outputs": [],
   "source": []
  }
 ],
 "metadata": {
  "kernelspec": {
   "display_name": "py36",
   "language": "python",
   "name": "py36"
  },
  "language_info": {
   "codemirror_mode": {
    "name": "ipython",
    "version": 3
   },
   "file_extension": ".py",
   "mimetype": "text/x-python",
   "name": "python",
   "nbconvert_exporter": "python",
   "pygments_lexer": "ipython3",
   "version": "3.6.7"
  }
 },
 "nbformat": 4,
 "nbformat_minor": 2
}
