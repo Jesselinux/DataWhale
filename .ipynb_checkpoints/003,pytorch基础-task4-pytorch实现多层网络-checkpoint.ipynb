{
 "cells": [
  {
   "cell_type": "code",
   "execution_count": null,
   "metadata": {},
   "outputs": [
    {
     "name": "stderr",
     "output_type": "stream",
     "text": [
      "\r",
      "0it [00:00, ?it/s]"
     ]
    },
    {
     "name": "stdout",
     "output_type": "stream",
     "text": [
      "Downloading https://www.cs.toronto.edu/~kriz/cifar-10-python.tar.gz to ../Datasets/cifar-10-python.tar.gz\n"
     ]
    },
    {
     "name": "stderr",
     "output_type": "stream",
     "text": [
      " 13%|█▎        | 22372352/170498071 [34:22<3:37:53, 11329.92it/s]"
     ]
    }
   ],
   "source": [
    "import torch\n",
    "import torchvision\n",
    "import torchvision.transforms as transforms\n",
    "\n",
    "# 1，加载数据：\n",
    "transform = transforms.Compose(\n",
    "   [transforms.ToTensor(),\n",
    "    transforms.Normalize((0.5, 0.5, 0.5), (0.5, 0.5, 0.5))])\n",
    "\n",
    "trainset = torchvision.datasets.CIFAR10(root='../Datasets', train=True,\n",
    "                        download=True,transform=transform)\n",
    "\n",
    "trainloader = torch.utils.data.DataLoader(trainset, batch_size=4,\n",
    "                               shuffle=True, num_workers=2)\n",
    "\n",
    "testset = torchvision.datasets.CIFAR10(root='../Datasets', train=False,\n",
    "                       download=True, transform=transform)\n",
    "\n",
    "testloader = torch.utils.data.DataLoader(testset, batch_size=4,\n",
    "                              shuffle=False, num_workers=2)\n",
    "\n",
    "classes = ('plane', 'car', 'bird', 'cat', 'deer', 'dog', 'frog', 'horse', 'ship', 'truck')"
   ]
  },
  {
   "cell_type": "code",
   "execution_count": null,
   "metadata": {},
   "outputs": [],
   "source": [
    "# 2,展示数据集图片：\n",
    "import matplotlib.pyplot as plt\n",
    "import numpy as np\n",
    "\n",
    "# 图像显示函数\n",
    "defimshow(img):\n",
    "   img = img /2+0.5     # 非标准的（unnormalized）\n",
    "   npimg = img.numpy()\n",
    "   plt.imshow(np.transpose(npimg, (1, 2, 0)))\n",
    "   plt.show()\n",
    "\n",
    "# 得到一些随机图像\n",
    "dataiter =iter(trainloader)images, labels = dataiter.next()\n",
    "\n",
    "# 显示图像\n",
    "imshow(torchvision.utils.make_grid(images))\n",
    "\n",
    "# 打印类标\n",
    "print(' '.join('%5s'% classes[labels[j]] for j inrange(4)))"
   ]
  },
  {
   "cell_type": "code",
   "execution_count": null,
   "metadata": {},
   "outputs": [],
   "source": [
    "# 3，定义卷积神经网络：\n",
    "import torch.nn as nn\n",
    "import torch.nn.functional as F\n",
    "\n",
    "classNet(nn.Module):\n",
    "   def __init__(self):\n",
    "       super(Net, self).__init__()\n",
    "       self.conv1 = nn.Conv2d(3, 6, 5)\n",
    "       self.pool = nn.MaxPool2d(2, 2)\n",
    "       self.conv2 = nn.Conv2d(6, 16, 5)\n",
    "       self.fc1 = nn.Linear(16*5*5, 120)\n",
    "       self.fc2 = nn.Linear(120, 84)\n",
    "       self.fc3 = nn.Linear(84, 10)\n",
    "\n",
    "   defforward(self, x):\n",
    "       x =self.pool(F.relu(self.conv1(x)))\n",
    "       x =self.pool(F.relu(self.conv2(x)))\n",
    "       x = x.view(-1, 16*5*5)\n",
    "       x = F.relu(self.fc1(x))\n",
    "       x = F.relu(self.fc2(x))\n",
    "       x =self.fc3(x)\n",
    "\n",
    "       return x\n",
    "\n",
    "net = Net()"
   ]
  },
  {
   "cell_type": "code",
   "execution_count": null,
   "metadata": {},
   "outputs": [],
   "source": [
    "# 4，定义损失函数：\n",
    "import torch.optim as optim\n",
    "\n",
    "criterion = nn.CrossEntropyLoss()optimizer = optim.SGD(net.parameters(), lr=0.001, momentum=0.9）"
   ]
  },
  {
   "cell_type": "code",
   "execution_count": null,
   "metadata": {},
   "outputs": [],
   "source": [
    "# 5，训练网络：\n",
    "for epoch inrange(2):  # 多次循环遍历数据集\n",
    "   running_loss =0.0\n",
    "   for i, data inenumerate(trainloader, 0):\n",
    "       # 获取输入\n",
    "       inputs, labels = data\n",
    "\n",
    "       # 参数梯度置零\n",
    "       optimizer.zero_grad()\n",
    "\n",
    "       # 前向+ 反向 + 优化\n",
    "       outputs = net(inputs)\n",
    "       loss = criterion(outputs, labels)\n",
    "       loss.backward()\n",
    "       optimizer.step()\n",
    "\n",
    "       # 输出统计       \n",
    "running_loss += loss.item()\n",
    "\n",
    "       if i %2000==1999:    # 每2000 mini-batchs输出一次                                  print('[%d, %5d] loss: %.3f'%\n",
    "                 (epoch +1, i +1, running_loss /2000))\n",
    "\n",
    "           running_loss =0.0\n",
    "\n",
    "print('Finished Training')"
   ]
  },
  {
   "cell_type": "code",
   "execution_count": null,
   "metadata": {},
   "outputs": [],
   "source": [
    "# 6，测试集上预测：\n",
    "dataiter =iter(testloader)images, labels = dataiter.next()\n",
    "\n",
    "# 打印图片\n",
    "imshow(torchvision.utils.make_grid(images))\n",
    "\n",
    "print('GroundTruth: ', ' '.join('%5s'% classes[labels[j]] for j inrange(4)))\n",
    "\n",
    "outputs = net(images)\n",
    "\n",
    "_, predicted = torch.max(outputs, 1)\n",
    "\n",
    "print('Predicted: ', ' '.join('%5s'% classes[predicted[j]] for j inrange(4)))"
   ]
  },
  {
   "cell_type": "code",
   "execution_count": null,
   "metadata": {},
   "outputs": [],
   "source": [
    "# 7，模型评估：\n",
    "correct =0total =0with torch.no_grad():\n",
    "   for data in testloader:\n",
    "       images, labels = data\n",
    "       outputs = net(images)\n",
    "       _, predicted = torch.max(outputs.data, 1)\n",
    "       total += labels.size(0)\n",
    "       correct += (predicted == labels).sum().item()\n",
    "\n",
    "print('Accuracy of the network on the 10000 test images: %d %%'% (100* correct / total))\n",
    "\n",
    "\n",
    "class_correct =list(0.for i inrange(10))class_total =list(0.for i inrange(10))with torch.no_grad():\n",
    "\n",
    "   for data in testloader:\n",
    "       images, labels = data\n",
    "       outputs = net(images)\n",
    "       _, predicted = torch.max(outputs, 1)\n",
    "       c = (predicted == labels).squeeze()\n",
    "\n",
    "       for i inrange(4):\n",
    "           label = labels[i]\n",
    "           class_correct[label] += c[i].item()\n",
    "           class_total[label] +=1\n",
    "\n",
    "for i inrange(10):\n",
    "   print('Accuracy of %5s : %2d %%'% (classes[i], 100* class_correct[i] / class_total[i]))"
   ]
  },
  {
   "cell_type": "code",
   "execution_count": null,
   "metadata": {},
   "outputs": [],
   "source": []
  }
 ],
 "metadata": {
  "kernelspec": {
   "display_name": "py36",
   "language": "python",
   "name": "py36"
  },
  "language_info": {
   "codemirror_mode": {
    "name": "ipython",
    "version": 3
   },
   "file_extension": ".py",
   "mimetype": "text/x-python",
   "name": "python",
   "nbconvert_exporter": "python",
   "pygments_lexer": "ipython3",
   "version": "3.6.7"
  }
 },
 "nbformat": 4,
 "nbformat_minor": 2
}
