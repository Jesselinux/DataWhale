{
 "cells": [
  {
   "cell_type": "code",
   "execution_count": 1,
   "metadata": {},
   "outputs": [],
   "source": [
    "import numpy as np\n",
    "import pandas as pd\n",
    "import matplotlib.pyplot as plt"
   ]
  },
  {
   "cell_type": "code",
   "execution_count": 2,
   "metadata": {
    "scrolled": true
   },
   "outputs": [
    {
     "name": "stdout",
     "output_type": "stream",
     "text": [
      "<class 'pandas.core.frame.DataFrame'>\n",
      "RangeIndex: 41440 entries, 0 to 41439\n",
      "Data columns (total 51 columns):\n",
      "ID                    41440 non-null int64\n",
      "area                  41440 non-null float64\n",
      "rentType              41440 non-null object\n",
      "houseType             41440 non-null object\n",
      "houseFloor            41440 non-null object\n",
      "totalFloor            41440 non-null int64\n",
      "houseToward           41440 non-null object\n",
      "houseDecoration       41440 non-null object\n",
      "communityName         41440 non-null object\n",
      "city                  41440 non-null object\n",
      "region                41440 non-null object\n",
      "plate                 41440 non-null object\n",
      "buildYear             41440 non-null object\n",
      "saleSecHouseNum       41440 non-null int64\n",
      "subwayStationNum      41440 non-null int64\n",
      "busStationNum         41440 non-null int64\n",
      "interSchoolNum        41440 non-null int64\n",
      "schoolNum             41440 non-null int64\n",
      "privateSchoolNum      41440 non-null int64\n",
      "hospitalNum           41440 non-null int64\n",
      "drugStoreNum          41440 non-null int64\n",
      "gymNum                41440 non-null int64\n",
      "bankNum               41440 non-null int64\n",
      "shopNum               41440 non-null int64\n",
      "parkNum               41440 non-null int64\n",
      "mallNum               41440 non-null int64\n",
      "superMarketNum        41440 non-null int64\n",
      "totalTradeMoney       41440 non-null int64\n",
      "totalTradeArea        41440 non-null float64\n",
      "tradeMeanPrice        41440 non-null float64\n",
      "tradeSecNum           41440 non-null int64\n",
      "totalNewTradeMoney    41440 non-null int64\n",
      "totalNewTradeArea     41440 non-null int64\n",
      "tradeNewMeanPrice     41440 non-null float64\n",
      "tradeNewNum           41440 non-null int64\n",
      "remainNewNum          41440 non-null int64\n",
      "supplyNewNum          41440 non-null int64\n",
      "supplyLandNum         41440 non-null int64\n",
      "supplyLandArea        41440 non-null float64\n",
      "tradeLandNum          41440 non-null int64\n",
      "tradeLandArea         41440 non-null float64\n",
      "landTotalPrice        41440 non-null int64\n",
      "landMeanPrice         41440 non-null float64\n",
      "totalWorkers          41440 non-null int64\n",
      "newWorkers            41440 non-null int64\n",
      "residentPopulation    41440 non-null int64\n",
      "pv                    41422 non-null float64\n",
      "uv                    41422 non-null float64\n",
      "lookNum               41440 non-null int64\n",
      "tradeTime             41440 non-null object\n",
      "tradeMoney            41440 non-null float64\n",
      "dtypes: float64(10), int64(30), object(11)\n",
      "memory usage: 16.1+ MB\n"
     ]
    }
   ],
   "source": [
    "train = pd.read_csv('train_data.csv')\n",
    "test = pd.read_csv('test_a.csv')\n",
    "train.info()"
   ]
  },
  {
   "cell_type": "code",
   "execution_count": 3,
   "metadata": {
    "scrolled": true
   },
   "outputs": [
    {
     "data": {
      "text/plain": [
       "ID                    41440\n",
       "area                  10353\n",
       "rentType                  4\n",
       "houseType               104\n",
       "houseFloor                3\n",
       "totalFloor               55\n",
       "houseToward              10\n",
       "houseDecoration           4\n",
       "communityName          4236\n",
       "city                      1\n",
       "region                   15\n",
       "plate                    66\n",
       "buildYear                80\n",
       "saleSecHouseNum          28\n",
       "subwayStationNum         13\n",
       "busStationNum            59\n",
       "interSchoolNum            7\n",
       "schoolNum                44\n",
       "privateSchoolNum         17\n",
       "hospitalNum              11\n",
       "drugStoreNum             42\n",
       "gymNum                   39\n",
       "bankNum                  45\n",
       "shopNum                  56\n",
       "parkNum                  18\n",
       "mallNum                  17\n",
       "superMarketNum           49\n",
       "totalTradeMoney         704\n",
       "totalTradeArea          705\n",
       "tradeMeanPrice          705\n",
       "tradeSecNum             333\n",
       "totalNewTradeMoney      558\n",
       "totalNewTradeArea       533\n",
       "tradeNewMeanPrice       557\n",
       "tradeNewNum             157\n",
       "remainNewNum            392\n",
       "supplyNewNum            104\n",
       "supplyLandNum             4\n",
       "supplyLandArea           54\n",
       "tradeLandNum              5\n",
       "tradeLandArea            46\n",
       "landTotalPrice           46\n",
       "landMeanPrice            52\n",
       "totalWorkers             63\n",
       "newWorkers              179\n",
       "residentPopulation       63\n",
       "pv                      709\n",
       "uv                      649\n",
       "lookNum                  32\n",
       "tradeTime               361\n",
       "tradeMoney              836\n",
       "dtype: int64"
      ]
     },
     "execution_count": 3,
     "metadata": {},
     "output_type": "execute_result"
    }
   ],
   "source": [
    "train.nunique()"
   ]
  },
  {
   "cell_type": "markdown",
   "metadata": {},
   "source": [
    "处理思路：面积和租金的异常值应该清理，rentType和houseType应该是强特征，houseFloor和totalFloor可以一起处理成一个量。\n",
    "houseToward和houseDecoration可以one-hot编码。tradeTime和buildYear组成房屋的年龄age。ID和city应该扔掉。\n",
    "region到uv之间的量（除去buildYear）主要包含位置特征和月份特征，可以考虑PCA降维。"
   ]
  },
  {
   "cell_type": "code",
   "execution_count": 4,
   "metadata": {},
   "outputs": [],
   "source": [
    "#处理面积或租金非常不合理的条目\n",
    "train.drop(train[train.area>200].index,axis=0,inplace=True)\n",
    "train.drop(train[train.area<10].index,axis=0,inplace=True)\n",
    "\n",
    "train.drop(train[train.tradeMoney>60000].index,axis=0,inplace=True)\n",
    "train.drop(train[train.tradeMoney==0].index,axis=0,inplace=True)"
   ]
  },
  {
   "cell_type": "code",
   "execution_count": 5,
   "metadata": {},
   "outputs": [],
   "source": [
    "train.loc[train.rentType=='--','rentType'] = '未知方式'\n",
    "\n",
    "train['roomNum'] = [s[:2] for s in train['houseType']]\n",
    "train['hallNum'] = [s[2:4] for s in train['houseType']]\n",
    "train['bathroomNum'] = [s[4:] for s in train['houseType']]\n",
    "del train['houseType']\n",
    "\n",
    "test['roomNum'] = [s[:2] for s in test['houseType']]\n",
    "test['hallNum'] = [s[2:4] for s in test['houseType']]\n",
    "test['bathroomNum'] = [s[4:] for s in test['houseType']]\n",
    "del test['houseType']"
   ]
  },
  {
   "cell_type": "code",
   "execution_count": 6,
   "metadata": {},
   "outputs": [],
   "source": [
    "train['houseFloor'] = [5/6 if s=='高' else s for s in train['houseFloor']]\n",
    "train['houseFloor'] = [0.5 if s=='中' else s for s in train['houseFloor']]\n",
    "train['houseFloor'] = [1/6 if s=='低' else s for s in train['houseFloor']]\n",
    "train['floor'] = train['houseFloor']*train['totalFloor']\n",
    "for s in ['houseFloor','totalFloor']:\n",
    "    del train[s]\n",
    "\n",
    "test['houseFloor'] = [5/6 if s=='高' else s for s in test['houseFloor']]\n",
    "test['houseFloor'] = [0.5 if s=='中' else s for s in test['houseFloor']]\n",
    "test['houseFloor'] = [1/6 if s=='低' else s for s in test['houseFloor']]\n",
    "test['floor'] = test['houseFloor']*test['totalFloor']\n",
    "for s in ['houseFloor','totalFloor']:\n",
    "    del test[s]"
   ]
  },
  {
   "cell_type": "code",
   "execution_count": 7,
   "metadata": {},
   "outputs": [],
   "source": [
    "#buildYear均值填充缺失值\n",
    "train.loc[train['buildYear']=='暂无信息','buildYear'] = 1999  \n",
    "train['buildYear'] =  train['buildYear'].apply(int)\n",
    "train['age'] = 2018 - train['buildYear']\n",
    "for s in ['buildYear','tradeTime','ID','city']:\n",
    "    del train[s]\n",
    "\n",
    "test.loc[test['buildYear']=='暂无信息','buildYear'] = 1999  \n",
    "test['buildYear'] =  test['buildYear'].apply(int)\n",
    "test['age'] = 2018 - test['buildYear']\n",
    "for s in ['buildYear','tradeTime','ID','city']:\n",
    "    del test[s]"
   ]
  },
  {
   "cell_type": "code",
   "execution_count": 8,
   "metadata": {},
   "outputs": [],
   "source": [
    "#缺失值填充\n",
    "test['pv'].fillna(train['pv'].dropna().median(),inplace=True)\n",
    "test['uv'].fillna(train['uv'].dropna().median(),inplace=True)\n",
    "\n",
    "train['pv'].fillna(train['pv'].dropna().median(),inplace=True)\n",
    "train['uv'].fillna(train['uv'].dropna().median(),inplace=True)\n",
    "\n"
   ]
  },
  {
   "cell_type": "code",
   "execution_count": 9,
   "metadata": {},
   "outputs": [],
   "source": [
    "#小区、地区和板块先扔掉\n",
    "for s in ['communityName','region','plate']:\n",
    "    del train[s]\n",
    "    del test[s]"
   ]
  },
  {
   "cell_type": "code",
   "execution_count": 10,
   "metadata": {},
   "outputs": [],
   "source": [
    "onehot_list = ['rentType','houseToward','houseDecoration','roomNum','hallNum','bathroomNum']\n",
    "PCA_list = ['saleSecHouseNum','subwayStationNum','busStationNum','interSchoolNum','schoolNum',\n",
    "           'privateSchoolNum','hospitalNum','drugStoreNum','gymNum','bankNum','shopNum','parkNum',\n",
    "           'mallNum','superMarketNum','totalTradeMoney','totalTradeArea','tradeMeanPrice',\n",
    "           'tradeSecNum','totalNewTradeMoney','totalNewTradeArea','tradeNewMeanPrice',\n",
    "           'tradeNewNum','remainNewNum','supplyNewNum','supplyLandNum','supplyLandArea',\n",
    "           'tradeLandNum','tradeLandArea','landTotalPrice','landMeanPrice','totalWorkers',\n",
    "           'newWorkers', 'residentPopulation', 'pv','uv']"
   ]
  },
  {
   "cell_type": "code",
   "execution_count": 11,
   "metadata": {},
   "outputs": [],
   "source": [
    "#独热编码\n",
    "train = pd.get_dummies(columns=onehot_list,data=train)\n",
    "test = pd.get_dummies(columns=onehot_list,data=test)\n",
    "del onehot_list"
   ]
  },
  {
   "cell_type": "code",
   "execution_count": 12,
   "metadata": {},
   "outputs": [],
   "source": [
    "y = train.tradeMoney\n",
    "del train['tradeMoney']"
   ]
  },
  {
   "cell_type": "code",
   "execution_count": 13,
   "metadata": {},
   "outputs": [],
   "source": [
    "from sklearn.ensemble import RandomForestRegressor\n",
    "from sklearn.preprocessing import MinMaxScaler\n",
    "from sklearn.model_selection import cross_val_predict\n",
    "from sklearn.decomposition import PCA"
   ]
  },
  {
   "cell_type": "code",
   "execution_count": 14,
   "metadata": {
    "scrolled": true
   },
   "outputs": [
    {
     "name": "stderr",
     "output_type": "stream",
     "text": [
      "C:\\Users\\Public\\Anaconda\\lib\\site-packages\\sklearn\\preprocessing\\data.py:334: DataConversionWarning: Data with input dtype int64, float64 were all converted to float64 by MinMaxScaler.\n",
      "  return self.partial_fit(X, y)\n"
     ]
    }
   ],
   "source": [
    "#PCA降维\n",
    "minmaxscaler=MinMaxScaler()\n",
    "pca = PCA(n_components=10)\n",
    "\n",
    "X = minmaxscaler.fit_transform(train[PCA_list])\n",
    "X = pca.fit_transform(X)\n",
    "\n",
    "col = ['PCA'+str(s) for s in range(10)]\n",
    "X = pd.DataFrame(X,index=train.index,columns=col)\n",
    "train = pd.concat([train,X],axis=1)\n",
    "\n",
    "for s in PCA_list:\n",
    "    del train[s]\n",
    "\n",
    "X = minmaxscaler.transform(test[PCA_list])\n",
    "X = pca.transform(X)\n",
    "    \n",
    "X = pd.DataFrame(X,index=test.index,columns=col)\n",
    "test = pd.concat([test,X],axis=1)    \n",
    "\n",
    "for s in PCA_list:\n",
    "    del test[s]\n",
    "\n",
    "del PCA_list,col,X"
   ]
  },
  {
   "cell_type": "code",
   "execution_count": 15,
   "metadata": {
    "scrolled": false
   },
   "outputs": [
    {
     "name": "stdout",
     "output_type": "stream",
     "text": [
      "0.8272351902243611\n"
     ]
    }
   ],
   "source": [
    "RF = RandomForestRegressor(n_estimators=100,n_jobs=-1)\n",
    "y_pred = cross_val_predict(RF,train,y,cv=5)\n",
    "score = 1-np.sum(np.power(y_pred-y,2))/ np.sum(np.power(y-np.mean(y),2))\n",
    "print(score)"
   ]
  },
  {
   "cell_type": "code",
   "execution_count": 16,
   "metadata": {},
   "outputs": [
    {
     "data": {
      "text/plain": [
       "Index(['bathroomNum_7卫', 'hallNum_4厅', 'roomNum_7室', 'houseToward_东西',\n",
       "       'roomNum_6室', 'bathroomNum_5卫', 'roomNum_5室', 'bathroomNum_4卫',\n",
       "       'rentType_合租', 'hallNum_3厅', 'houseToward_北', 'houseToward_西北',\n",
       "       'houseDecoration_简装', 'houseToward_东南', 'houseToward_东',\n",
       "       'houseDecoration_毛坯', 'bathroomNum_3卫', 'houseToward_西', 'hallNum_0厅',\n",
       "       'houseToward_暂无数据', 'houseToward_西南', 'roomNum_4室', 'houseToward_南北',\n",
       "       'hallNum_1厅', 'bathroomNum_0卫', 'lookNum', 'rentType_未知方式',\n",
       "       'houseDecoration_其他', 'bathroomNum_2卫', 'rentType_整租', 'houseToward_南',\n",
       "       'bathroomNum_1卫', 'roomNum_3室', 'roomNum_2室', 'houseDecoration_精装',\n",
       "       'roomNum_1室', 'PCA9', 'hallNum_2厅', 'PCA3', 'PCA8', 'floor', 'PCA6',\n",
       "       'PCA4', 'PCA5', 'age', 'PCA2', 'PCA0', 'PCA7', 'PCA1', 'area'],\n",
       "      dtype='object')"
      ]
     },
     "execution_count": 16,
     "metadata": {},
     "output_type": "execute_result"
    }
   ],
   "source": [
    "RF.fit(train,y)\n",
    "np.argsort(RF.feature_importances_,)\n",
    "train.columns[np.argsort(RF.feature_importances_)]"
   ]
  },
  {
   "cell_type": "code",
   "execution_count": 17,
   "metadata": {},
   "outputs": [
    {
     "data": {
      "text/plain": [
       "array([39, 32, 27,  9, 26, 38, 25, 37,  4, 31, 10, 15, 19,  8,  7, 18, 36,\n",
       "       14, 28, 13, 16, 24, 12, 29, 33,  1,  6, 17, 35,  5, 11, 34, 23, 22,\n",
       "       20, 21, 49, 30, 43, 48,  2, 46, 44, 45,  3, 42, 40, 47, 41,  0],\n",
       "      dtype=int64)"
      ]
     },
     "execution_count": 17,
     "metadata": {},
     "output_type": "execute_result"
    }
   ],
   "source": [
    "np.argsort(RF.feature_importances_)"
   ]
  }
 ],
 "metadata": {
  "kernelspec": {
   "display_name": "Python 3",
   "language": "python",
   "name": "python3"
  },
  "language_info": {
   "codemirror_mode": {
    "name": "ipython",
    "version": 3
   },
   "file_extension": ".py",
   "mimetype": "text/x-python",
   "name": "python",
   "nbconvert_exporter": "python",
   "pygments_lexer": "ipython3",
   "version": "3.6.7"
  }
 },
 "nbformat": 4,
 "nbformat_minor": 2
}
