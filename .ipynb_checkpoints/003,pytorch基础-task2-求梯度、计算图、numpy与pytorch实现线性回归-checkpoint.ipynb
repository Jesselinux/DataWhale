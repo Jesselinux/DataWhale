{
 "cells": [
  {
   "cell_type": "code",
   "execution_count": 1,
   "metadata": {},
   "outputs": [
    {
     "data": {
      "text/plain": [
       "tensor([1.])"
      ]
     },
     "execution_count": 1,
     "metadata": {},
     "output_type": "execute_result"
    }
   ],
   "source": [
    "# 1,计算图：PyTorch使用的是动态图，它的计算图在每次前向传播时都是从头开始构建\n",
    "# 使用retain_graph来保存buffer:\n",
    "from __future__ import print_function\n",
    "import torch as t\n",
    "\n",
    "\n",
    "x = t.ones(1)\n",
    "b = t.rand(1, requires_grad = True)   # 变量的requires_grad属性默认为False,节省约一半显存\n",
    "w = t.rand(1, requires_grad = True)\n",
    "y = w * x   # 等价于y=w.mul(x)\n",
    "z = y + b   # 等价于z=y.add(b)\n",
    "\n",
    "z.backward(retain_graph=True)\n",
    "w.grad"
   ]
  },
  {
   "cell_type": "code",
   "execution_count": 2,
   "metadata": {},
   "outputs": [
    {
     "name": "stdout",
     "output_type": "stream",
     "text": [
      "tensor([[-0.2477,  3.8471,  0.1684,  7.0848],\n",
      "        [ 4.7594,  1.8777,  0.0249, 13.8255],\n",
      "        [ 4.0869, -0.3780,  3.5115, -0.0813]]) \n",
      " tensor([[-0.2477,  3.8471,  0.1684,  7.0848],\n",
      "        [ 4.7594,  1.8777,  0.0249, 13.8255],\n",
      "        [ 4.0869, -0.3780,  3.5115, -0.0813]], grad_fn=<AddBackward0>)\n"
     ]
    }
   ],
   "source": [
    "# 2，autograd:\n",
    "def f(x):\n",
    "    '''计算y'''\n",
    "    y = x**2 * t.exp(x)\n",
    "    return y\n",
    "\n",
    "def gradf(x):\n",
    "    '''手动求导函数'''\n",
    "    dx = 2*x*t.exp(x) + x**2*t.exp(x)\n",
    "    return dx\n",
    "\n",
    "\n",
    "x = t.randn(3,4, requires_grad = True)\n",
    "y = f(x)\n",
    "\n",
    "y.backward(t.ones(y.size()))       # gradient形状与y一致\n",
    "print(x.grad, '\\n', gradf(x))      # autograd的计算结果与利用公式手动计算的结果一致"
   ]
  },
  {
   "cell_type": "code",
   "execution_count": 3,
   "metadata": {
    "scrolled": false
   },
   "outputs": [
    {
     "name": "stdout",
     "output_type": "stream",
     "text": [
      "epoch: 0, loss: 1.2777559757232666\n",
      "epoch: 1, loss: 0.23446236550807953\n",
      "epoch: 2, loss: 0.21228225529193878\n",
      "epoch: 3, loss: 0.21166886389255524\n",
      "epoch: 4, loss: 0.21151168644428253\n",
      "epoch: 5, loss: 0.21136493980884552\n",
      "epoch: 6, loss: 0.21121908724308014\n",
      "epoch: 7, loss: 0.21107405424118042\n",
      "epoch: 8, loss: 0.2109297215938568\n",
      "epoch: 9, loss: 0.21078616380691528\n",
      "epoch: 10, loss: 0.21064333617687225\n",
      "epoch: 11, loss: 0.21050123870372772\n",
      "epoch: 12, loss: 0.21035988628864288\n",
      "epoch: 13, loss: 0.21021929383277893\n",
      "epoch: 14, loss: 0.2100793570280075\n",
      "epoch: 15, loss: 0.20994016528129578\n",
      "epoch: 16, loss: 0.20980171859264374\n",
      "epoch: 17, loss: 0.20966394245624542\n",
      "epoch: 18, loss: 0.2095268815755844\n",
      "epoch: 19, loss: 0.2093905806541443\n",
      "epoch: 20, loss: 0.20925498008728027\n",
      "epoch: 21, loss: 0.2091200351715088\n",
      "epoch: 22, loss: 0.2089858055114746\n",
      "epoch: 23, loss: 0.20885224640369415\n",
      "epoch: 24, loss: 0.20871946215629578\n",
      "epoch: 25, loss: 0.20858722925186157\n",
      "epoch: 26, loss: 0.20845580101013184\n",
      "epoch: 27, loss: 0.20832496881484985\n",
      "epoch: 28, loss: 0.2081948220729828\n",
      "epoch: 29, loss: 0.20806542038917542\n",
      "epoch: 30, loss: 0.2079365998506546\n",
      "epoch: 31, loss: 0.2078084796667099\n",
      "epoch: 32, loss: 0.20768095552921295\n",
      "epoch: 33, loss: 0.2075541615486145\n",
      "epoch: 34, loss: 0.20742802321910858\n",
      "epoch: 35, loss: 0.2073025405406952\n",
      "epoch: 36, loss: 0.20717766880989075\n",
      "epoch: 37, loss: 0.20705349743366241\n",
      "epoch: 38, loss: 0.20692990720272064\n",
      "epoch: 39, loss: 0.2068069875240326\n",
      "epoch: 40, loss: 0.2066846340894699\n",
      "epoch: 41, loss: 0.20656299591064453\n",
      "epoch: 42, loss: 0.2064419686794281\n",
      "epoch: 43, loss: 0.20632152259349823\n",
      "epoch: 44, loss: 0.20620177686214447\n",
      "epoch: 45, loss: 0.2060825228691101\n",
      "epoch: 46, loss: 0.20596401393413544\n",
      "epoch: 47, loss: 0.20584610104560852\n",
      "epoch: 48, loss: 0.20572873950004578\n",
      "epoch: 49, loss: 0.2056119590997696\n",
      "epoch: 50, loss: 0.20549587905406952\n",
      "epoch: 51, loss: 0.2053803652524948\n",
      "epoch: 52, loss: 0.20526541769504547\n",
      "epoch: 53, loss: 0.2051510512828827\n",
      "epoch: 54, loss: 0.20503726601600647\n",
      "epoch: 55, loss: 0.20492412149906158\n",
      "epoch: 56, loss: 0.20481155812740326\n",
      "epoch: 57, loss: 0.2046995311975479\n",
      "epoch: 58, loss: 0.2045881450176239\n",
      "epoch: 59, loss: 0.2044772505760193\n",
      "epoch: 60, loss: 0.20436695218086243\n",
      "epoch: 61, loss: 0.2042572796344757\n",
      "epoch: 62, loss: 0.20414815843105316\n",
      "epoch: 63, loss: 0.2040395587682724\n",
      "epoch: 64, loss: 0.20393157005310059\n",
      "epoch: 65, loss: 0.20382405817508698\n",
      "epoch: 66, loss: 0.2037171721458435\n",
      "epoch: 67, loss: 0.20361079275608063\n",
      "epoch: 68, loss: 0.2035049945116043\n",
      "epoch: 69, loss: 0.20339970290660858\n",
      "epoch: 70, loss: 0.20329497754573822\n",
      "epoch: 71, loss: 0.20319083333015442\n",
      "epoch: 72, loss: 0.20308715105056763\n",
      "epoch: 73, loss: 0.20298407971858978\n",
      "epoch: 74, loss: 0.20288150012493134\n",
      "epoch: 75, loss: 0.20277945697307587\n",
      "epoch: 76, loss: 0.20267793536186218\n",
      "epoch: 77, loss: 0.20257696509361267\n",
      "epoch: 78, loss: 0.20247647166252136\n",
      "epoch: 79, loss: 0.20237646996974945\n",
      "epoch: 80, loss: 0.2022770792245865\n",
      "epoch: 81, loss: 0.20217815041542053\n",
      "epoch: 82, loss: 0.20207974314689636\n",
      "epoch: 83, loss: 0.201981782913208\n",
      "epoch: 84, loss: 0.20188437402248383\n",
      "epoch: 85, loss: 0.20178750157356262\n",
      "epoch: 86, loss: 0.20169109106063843\n",
      "epoch: 87, loss: 0.20159517228603363\n",
      "epoch: 88, loss: 0.201499804854393\n",
      "epoch: 89, loss: 0.2014048993587494\n",
      "epoch: 90, loss: 0.2013104259967804\n",
      "epoch: 91, loss: 0.20121650397777557\n",
      "epoch: 92, loss: 0.20112305879592896\n",
      "epoch: 93, loss: 0.20103012025356293\n",
      "epoch: 94, loss: 0.20093759894371033\n",
      "epoch: 95, loss: 0.20084555447101593\n",
      "epoch: 96, loss: 0.2007540613412857\n",
      "epoch: 97, loss: 0.20066294074058533\n",
      "epoch: 98, loss: 0.20057234168052673\n",
      "epoch: 99, loss: 0.20048226416110992\n"
     ]
    },
    {
     "data": {
      "text/plain": [
       "<matplotlib.legend.Legend at 0x7f80b2708240>"
      ]
     },
     "execution_count": 3,
     "metadata": {},
     "output_type": "execute_result"
    },
    {
     "data": {
      "image/png": "[encoded data removed]",
      "text/plain": [
       "<Figure size 432x288 with 1 Axes>"
      ]
     },
     "metadata": {
      "needs_background": "light"
     },
     "output_type": "display_data"
    }
   ],
   "source": [
    "# 3，numpy、pytorch进行梯度优化一个线性模型：\n",
    "import torch\n",
    "import numpy as np\n",
    "from torch.autograd import Variable\n",
    "import matplotlib.pyplot as plt\n",
    "%matplotlib inline\n",
    "torch.manual_seed(2018)\n",
    "\n",
    "x_train = np.array([[3.3],[4.4],[5.5],[6.17],[6.93],[4.168],[9.779],[6.182],[7.59],[2.167],[7.042],[10.791],\n",
    "                    [5.313],[7.997],[3.1]],dtype=np.float32)\n",
    "y_train = np.array([[1.7],[2.76],[2.09],[3.19],[1.694],[1.573],[3.366],[2.596],[2.53],[1.221],[2.827],\n",
    "                   [3.465],[1.65],[2.904],[1.3]],dtype=np.float32)\n",
    "\n",
    "plt.plot(x_train, y_train, 'bo')\n",
    "\n",
    "# numpy转化为torch，以便梯度优化线性模型：\n",
    "pt_x_train = torch.from_numpy(x_train)\n",
    "pt_y_train = torch.from_numpy(y_train)\n",
    "\n",
    "w = Variable(torch.randn(1), requires_grad=True)\n",
    "b = Variable(torch.randn(1), requires_grad=True)\n",
    "\n",
    "x = Variable(pt_x_train)\n",
    "y = Variable(pt_y_train)\n",
    "\n",
    "def linear_model(x):  # 定义线性模型\n",
    "    return x * w + b\n",
    "\n",
    "y_hat = linear_model(x)\n",
    "\n",
    "# plt.plot(x.data.numpy(), y.data.numpy(), 'bo', label='real')\n",
    "# plt.plot(x.data.numpy(), y_hat.data.numpy(), 'ro', label='estimated')\n",
    "# plt.legend()\n",
    "\n",
    "def get_loss(y_hat, y):  # 定义损失函数，梯度优化的目标是最小化损失函数\n",
    "    return torch.mean((y_hat - y) ** 2)\n",
    "\n",
    "loss = get_loss(y_hat, y)\n",
    "\n",
    "loss.backward()\n",
    "w.data = w.data - 1e-2 * w.grad.data  # 梯度优化，进行参数更新\n",
    "b.data = b.data - 1e-2 * b.grad.data\n",
    "\n",
    "# y_hat = linear_model(x)\n",
    "# plt.plot(x.data.numpy(), y.data.numpy(), 'bo', label='real')\n",
    "# plt.plot(x.data.numpy(), y_hat.data.numpy(), 'ro', label='estimated')\n",
    "# plt.legend()\n",
    "\n",
    "for e in range(100):  # 参数更新100次\n",
    "    y_hat = linear_model(x)\n",
    "    loss = get_loss(y_hat, y)\n",
    "    \n",
    "    w.grad.zero_()\n",
    "    b.grad.zero_()\n",
    "    loss.backward()\n",
    "    \n",
    "    w.data = w.data - 1e-2 * w.grad.data\n",
    "    b.data = b.data - 1e-2 * b.grad.data \n",
    "    print('epoch: {}, loss: {}'.format(e, loss.item()))\n",
    "    \n",
    "y_hat = linear_model(x)  # 画图查看拟合效果\n",
    "plt.plot(x.data.numpy(), y.data.numpy(), 'bo', label='real')\n",
    "plt.plot(x.data.numpy(), y_hat.data.numpy(), 'ro', label='estimated')\n",
    "plt.legend()"
   ]
  },
  {
   "cell_type": "code",
   "execution_count": 3,
   "metadata": {},
   "outputs": [
    {
     "name": "stdout",
     "output_type": "stream",
     "text": [
      "tensor([[-2.2795e-01, -4.6099e-01, -3.8386e-01, -3.4965e-01],\n",
      "        [-4.0535e-01, -2.3546e-01, -2.9070e-01, -1.2966e-03],\n",
      "        [-4.2821e-01, -4.4423e-01, -4.4904e-01,  9.3193e+01]]) \n",
      " tensor([[-2.2795e-01, -4.6099e-01, -3.8386e-01, -3.4965e-01],\n",
      "        [-4.0535e-01, -2.3546e-01, -2.9070e-01, -1.2966e-03],\n",
      "        [-4.2821e-01, -4.4423e-01, -4.4904e-01,  9.3193e+01]],\n",
      "       grad_fn=<AddBackward0>)\n"
     ]
    }
   ],
   "source": []
  },
  {
   "cell_type": "code",
   "execution_count": null,
   "metadata": {},
   "outputs": [],
   "source": []
  }
 ],
 "metadata": {
  "kernelspec": {
   "display_name": "py36",
   "language": "python",
   "name": "py36"
  },
  "language_info": {
   "codemirror_mode": {
    "name": "ipython",
    "version": 3
   },
   "file_extension": ".py",
   "mimetype": "text/x-python",
   "name": "python",
   "nbconvert_exporter": "python",
   "pygments_lexer": "ipython3",
   "version": "3.6.7"
  }
 },
 "nbformat": 4,
 "nbformat_minor": 2
}
